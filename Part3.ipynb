{
  "nbformat": 4,
  "nbformat_minor": 0,
  "metadata": {
    "colab": {
      "name": "ML_Final_Exam_Part3.ipynb",
      "provenance": [],
      "collapsed_sections": [
        "-f82AkzLtq07",
        "c5EU9wu6vLH2",
        "FUKsf_IfvZwy",
        "e80UlCT0vrYI"
      ]
    },
    "kernelspec": {
      "name": "python3",
      "display_name": "Python 3"
    },
    "accelerator": "GPU",
    "widgets": {
      "application/vnd.jupyter.widget-state+json": {
        "4d7f98378da643059b5c8c6ffce7f7bf": {
          "model_module": "@jupyter-widgets/controls",
          "model_name": "HBoxModel",
          "state": {
            "_view_name": "HBoxView",
            "_dom_classes": [],
            "_model_name": "HBoxModel",
            "_view_module": "@jupyter-widgets/controls",
            "_model_module_version": "1.5.0",
            "_view_count": null,
            "_view_module_version": "1.5.0",
            "box_style": "",
            "layout": "IPY_MODEL_583180e2715f4da8bfbbb617c240bfc5",
            "_model_module": "@jupyter-widgets/controls",
            "children": [
              "IPY_MODEL_000f692d285f41d5a9a245587115f603",
              "IPY_MODEL_d08590cd1ef44ec6924e37b9e7c37a04"
            ]
          }
        },
        "583180e2715f4da8bfbbb617c240bfc5": {
          "model_module": "@jupyter-widgets/base",
          "model_name": "LayoutModel",
          "state": {
            "_view_name": "LayoutView",
            "grid_template_rows": null,
            "right": null,
            "justify_content": null,
            "_view_module": "@jupyter-widgets/base",
            "overflow": null,
            "_model_module_version": "1.2.0",
            "_view_count": null,
            "flex_flow": null,
            "width": null,
            "min_width": null,
            "border": null,
            "align_items": null,
            "bottom": null,
            "_model_module": "@jupyter-widgets/base",
            "top": null,
            "grid_column": null,
            "overflow_y": null,
            "overflow_x": null,
            "grid_auto_flow": null,
            "grid_area": null,
            "grid_template_columns": null,
            "flex": null,
            "_model_name": "LayoutModel",
            "justify_items": null,
            "grid_row": null,
            "max_height": null,
            "align_content": null,
            "visibility": null,
            "align_self": null,
            "height": null,
            "min_height": null,
            "padding": null,
            "grid_auto_rows": null,
            "grid_gap": null,
            "max_width": null,
            "order": null,
            "_view_module_version": "1.2.0",
            "grid_template_areas": null,
            "object_position": null,
            "object_fit": null,
            "grid_auto_columns": null,
            "margin": null,
            "display": null,
            "left": null
          }
        },
        "000f692d285f41d5a9a245587115f603": {
          "model_module": "@jupyter-widgets/controls",
          "model_name": "FloatProgressModel",
          "state": {
            "_view_name": "ProgressView",
            "style": "IPY_MODEL_4bbab83654b84d9994d841fc0932f68b",
            "_dom_classes": [],
            "description": "",
            "_model_name": "FloatProgressModel",
            "bar_style": "success",
            "max": 1,
            "_view_module": "@jupyter-widgets/controls",
            "_model_module_version": "1.5.0",
            "value": 1,
            "_view_count": null,
            "_view_module_version": "1.5.0",
            "orientation": "horizontal",
            "min": 0,
            "description_tooltip": null,
            "_model_module": "@jupyter-widgets/controls",
            "layout": "IPY_MODEL_9e5f01ace7454d51997cab0cdf77f643"
          }
        },
        "d08590cd1ef44ec6924e37b9e7c37a04": {
          "model_module": "@jupyter-widgets/controls",
          "model_name": "HTMLModel",
          "state": {
            "_view_name": "HTMLView",
            "style": "IPY_MODEL_326a21d9ac3846e992dff1fc44577942",
            "_dom_classes": [],
            "description": "",
            "_model_name": "HTMLModel",
            "placeholder": "​",
            "_view_module": "@jupyter-widgets/controls",
            "_model_module_version": "1.5.0",
            "value": " 26427392/? [00:06&lt;00:00, 3998918.56it/s]",
            "_view_count": null,
            "_view_module_version": "1.5.0",
            "description_tooltip": null,
            "_model_module": "@jupyter-widgets/controls",
            "layout": "IPY_MODEL_e80de2cfc8564114a1e2237b34aa48b7"
          }
        },
        "4bbab83654b84d9994d841fc0932f68b": {
          "model_module": "@jupyter-widgets/controls",
          "model_name": "ProgressStyleModel",
          "state": {
            "_view_name": "StyleView",
            "_model_name": "ProgressStyleModel",
            "description_width": "initial",
            "_view_module": "@jupyter-widgets/base",
            "_model_module_version": "1.5.0",
            "_view_count": null,
            "_view_module_version": "1.2.0",
            "bar_color": null,
            "_model_module": "@jupyter-widgets/controls"
          }
        },
        "9e5f01ace7454d51997cab0cdf77f643": {
          "model_module": "@jupyter-widgets/base",
          "model_name": "LayoutModel",
          "state": {
            "_view_name": "LayoutView",
            "grid_template_rows": null,
            "right": null,
            "justify_content": null,
            "_view_module": "@jupyter-widgets/base",
            "overflow": null,
            "_model_module_version": "1.2.0",
            "_view_count": null,
            "flex_flow": null,
            "width": null,
            "min_width": null,
            "border": null,
            "align_items": null,
            "bottom": null,
            "_model_module": "@jupyter-widgets/base",
            "top": null,
            "grid_column": null,
            "overflow_y": null,
            "overflow_x": null,
            "grid_auto_flow": null,
            "grid_area": null,
            "grid_template_columns": null,
            "flex": null,
            "_model_name": "LayoutModel",
            "justify_items": null,
            "grid_row": null,
            "max_height": null,
            "align_content": null,
            "visibility": null,
            "align_self": null,
            "height": null,
            "min_height": null,
            "padding": null,
            "grid_auto_rows": null,
            "grid_gap": null,
            "max_width": null,
            "order": null,
            "_view_module_version": "1.2.0",
            "grid_template_areas": null,
            "object_position": null,
            "object_fit": null,
            "grid_auto_columns": null,
            "margin": null,
            "display": null,
            "left": null
          }
        },
        "326a21d9ac3846e992dff1fc44577942": {
          "model_module": "@jupyter-widgets/controls",
          "model_name": "DescriptionStyleModel",
          "state": {
            "_view_name": "StyleView",
            "_model_name": "DescriptionStyleModel",
            "description_width": "",
            "_view_module": "@jupyter-widgets/base",
            "_model_module_version": "1.5.0",
            "_view_count": null,
            "_view_module_version": "1.2.0",
            "_model_module": "@jupyter-widgets/controls"
          }
        },
        "e80de2cfc8564114a1e2237b34aa48b7": {
          "model_module": "@jupyter-widgets/base",
          "model_name": "LayoutModel",
          "state": {
            "_view_name": "LayoutView",
            "grid_template_rows": null,
            "right": null,
            "justify_content": null,
            "_view_module": "@jupyter-widgets/base",
            "overflow": null,
            "_model_module_version": "1.2.0",
            "_view_count": null,
            "flex_flow": null,
            "width": null,
            "min_width": null,
            "border": null,
            "align_items": null,
            "bottom": null,
            "_model_module": "@jupyter-widgets/base",
            "top": null,
            "grid_column": null,
            "overflow_y": null,
            "overflow_x": null,
            "grid_auto_flow": null,
            "grid_area": null,
            "grid_template_columns": null,
            "flex": null,
            "_model_name": "LayoutModel",
            "justify_items": null,
            "grid_row": null,
            "max_height": null,
            "align_content": null,
            "visibility": null,
            "align_self": null,
            "height": null,
            "min_height": null,
            "padding": null,
            "grid_auto_rows": null,
            "grid_gap": null,
            "max_width": null,
            "order": null,
            "_view_module_version": "1.2.0",
            "grid_template_areas": null,
            "object_position": null,
            "object_fit": null,
            "grid_auto_columns": null,
            "margin": null,
            "display": null,
            "left": null
          }
        },
        "69202fb83123427c80f970a12ea2c1a8": {
          "model_module": "@jupyter-widgets/controls",
          "model_name": "HBoxModel",
          "state": {
            "_view_name": "HBoxView",
            "_dom_classes": [],
            "_model_name": "HBoxModel",
            "_view_module": "@jupyter-widgets/controls",
            "_model_module_version": "1.5.0",
            "_view_count": null,
            "_view_module_version": "1.5.0",
            "box_style": "",
            "layout": "IPY_MODEL_c567387b424d44498d1afa4b906ad8ed",
            "_model_module": "@jupyter-widgets/controls",
            "children": [
              "IPY_MODEL_b4b3a486e13c4243b617e87fd6a4be2b",
              "IPY_MODEL_4605fe570fff4832add3e643cdbb6176"
            ]
          }
        },
        "c567387b424d44498d1afa4b906ad8ed": {
          "model_module": "@jupyter-widgets/base",
          "model_name": "LayoutModel",
          "state": {
            "_view_name": "LayoutView",
            "grid_template_rows": null,
            "right": null,
            "justify_content": null,
            "_view_module": "@jupyter-widgets/base",
            "overflow": null,
            "_model_module_version": "1.2.0",
            "_view_count": null,
            "flex_flow": null,
            "width": null,
            "min_width": null,
            "border": null,
            "align_items": null,
            "bottom": null,
            "_model_module": "@jupyter-widgets/base",
            "top": null,
            "grid_column": null,
            "overflow_y": null,
            "overflow_x": null,
            "grid_auto_flow": null,
            "grid_area": null,
            "grid_template_columns": null,
            "flex": null,
            "_model_name": "LayoutModel",
            "justify_items": null,
            "grid_row": null,
            "max_height": null,
            "align_content": null,
            "visibility": null,
            "align_self": null,
            "height": null,
            "min_height": null,
            "padding": null,
            "grid_auto_rows": null,
            "grid_gap": null,
            "max_width": null,
            "order": null,
            "_view_module_version": "1.2.0",
            "grid_template_areas": null,
            "object_position": null,
            "object_fit": null,
            "grid_auto_columns": null,
            "margin": null,
            "display": null,
            "left": null
          }
        },
        "b4b3a486e13c4243b617e87fd6a4be2b": {
          "model_module": "@jupyter-widgets/controls",
          "model_name": "FloatProgressModel",
          "state": {
            "_view_name": "ProgressView",
            "style": "IPY_MODEL_a25816d4e2fb4d14802a33398eca3d90",
            "_dom_classes": [],
            "description": "",
            "_model_name": "FloatProgressModel",
            "bar_style": "success",
            "max": 1,
            "_view_module": "@jupyter-widgets/controls",
            "_model_module_version": "1.5.0",
            "value": 1,
            "_view_count": null,
            "_view_module_version": "1.5.0",
            "orientation": "horizontal",
            "min": 0,
            "description_tooltip": null,
            "_model_module": "@jupyter-widgets/controls",
            "layout": "IPY_MODEL_2cbc7d00e7fd4984b8e9c947824ef2d2"
          }
        },
        "4605fe570fff4832add3e643cdbb6176": {
          "model_module": "@jupyter-widgets/controls",
          "model_name": "HTMLModel",
          "state": {
            "_view_name": "HTMLView",
            "style": "IPY_MODEL_309a6303bce742d79af6c181f9e216db",
            "_dom_classes": [],
            "description": "",
            "_model_name": "HTMLModel",
            "placeholder": "​",
            "_view_module": "@jupyter-widgets/controls",
            "_model_module_version": "1.5.0",
            "value": " 32768/? [00:00&lt;00:00, 104191.38it/s]",
            "_view_count": null,
            "_view_module_version": "1.5.0",
            "description_tooltip": null,
            "_model_module": "@jupyter-widgets/controls",
            "layout": "IPY_MODEL_3c6aba1d830c48408f0c8a6e95adc560"
          }
        },
        "a25816d4e2fb4d14802a33398eca3d90": {
          "model_module": "@jupyter-widgets/controls",
          "model_name": "ProgressStyleModel",
          "state": {
            "_view_name": "StyleView",
            "_model_name": "ProgressStyleModel",
            "description_width": "initial",
            "_view_module": "@jupyter-widgets/base",
            "_model_module_version": "1.5.0",
            "_view_count": null,
            "_view_module_version": "1.2.0",
            "bar_color": null,
            "_model_module": "@jupyter-widgets/controls"
          }
        },
        "2cbc7d00e7fd4984b8e9c947824ef2d2": {
          "model_module": "@jupyter-widgets/base",
          "model_name": "LayoutModel",
          "state": {
            "_view_name": "LayoutView",
            "grid_template_rows": null,
            "right": null,
            "justify_content": null,
            "_view_module": "@jupyter-widgets/base",
            "overflow": null,
            "_model_module_version": "1.2.0",
            "_view_count": null,
            "flex_flow": null,
            "width": null,
            "min_width": null,
            "border": null,
            "align_items": null,
            "bottom": null,
            "_model_module": "@jupyter-widgets/base",
            "top": null,
            "grid_column": null,
            "overflow_y": null,
            "overflow_x": null,
            "grid_auto_flow": null,
            "grid_area": null,
            "grid_template_columns": null,
            "flex": null,
            "_model_name": "LayoutModel",
            "justify_items": null,
            "grid_row": null,
            "max_height": null,
            "align_content": null,
            "visibility": null,
            "align_self": null,
            "height": null,
            "min_height": null,
            "padding": null,
            "grid_auto_rows": null,
            "grid_gap": null,
            "max_width": null,
            "order": null,
            "_view_module_version": "1.2.0",
            "grid_template_areas": null,
            "object_position": null,
            "object_fit": null,
            "grid_auto_columns": null,
            "margin": null,
            "display": null,
            "left": null
          }
        },
        "309a6303bce742d79af6c181f9e216db": {
          "model_module": "@jupyter-widgets/controls",
          "model_name": "DescriptionStyleModel",
          "state": {
            "_view_name": "StyleView",
            "_model_name": "DescriptionStyleModel",
            "description_width": "",
            "_view_module": "@jupyter-widgets/base",
            "_model_module_version": "1.5.0",
            "_view_count": null,
            "_view_module_version": "1.2.0",
            "_model_module": "@jupyter-widgets/controls"
          }
        },
        "3c6aba1d830c48408f0c8a6e95adc560": {
          "model_module": "@jupyter-widgets/base",
          "model_name": "LayoutModel",
          "state": {
            "_view_name": "LayoutView",
            "grid_template_rows": null,
            "right": null,
            "justify_content": null,
            "_view_module": "@jupyter-widgets/base",
            "overflow": null,
            "_model_module_version": "1.2.0",
            "_view_count": null,
            "flex_flow": null,
            "width": null,
            "min_width": null,
            "border": null,
            "align_items": null,
            "bottom": null,
            "_model_module": "@jupyter-widgets/base",
            "top": null,
            "grid_column": null,
            "overflow_y": null,
            "overflow_x": null,
            "grid_auto_flow": null,
            "grid_area": null,
            "grid_template_columns": null,
            "flex": null,
            "_model_name": "LayoutModel",
            "justify_items": null,
            "grid_row": null,
            "max_height": null,
            "align_content": null,
            "visibility": null,
            "align_self": null,
            "height": null,
            "min_height": null,
            "padding": null,
            "grid_auto_rows": null,
            "grid_gap": null,
            "max_width": null,
            "order": null,
            "_view_module_version": "1.2.0",
            "grid_template_areas": null,
            "object_position": null,
            "object_fit": null,
            "grid_auto_columns": null,
            "margin": null,
            "display": null,
            "left": null
          }
        },
        "9ff62ecf98614f73b733c6e73bcc62bc": {
          "model_module": "@jupyter-widgets/controls",
          "model_name": "HBoxModel",
          "state": {
            "_view_name": "HBoxView",
            "_dom_classes": [],
            "_model_name": "HBoxModel",
            "_view_module": "@jupyter-widgets/controls",
            "_model_module_version": "1.5.0",
            "_view_count": null,
            "_view_module_version": "1.5.0",
            "box_style": "",
            "layout": "IPY_MODEL_b57bb9919877401b8ef035791d40053d",
            "_model_module": "@jupyter-widgets/controls",
            "children": [
              "IPY_MODEL_2dcff7ee9e4341cbb286fa91bd9923db",
              "IPY_MODEL_23b61e3b9b374faa86c90a8e5efd8aef"
            ]
          }
        },
        "b57bb9919877401b8ef035791d40053d": {
          "model_module": "@jupyter-widgets/base",
          "model_name": "LayoutModel",
          "state": {
            "_view_name": "LayoutView",
            "grid_template_rows": null,
            "right": null,
            "justify_content": null,
            "_view_module": "@jupyter-widgets/base",
            "overflow": null,
            "_model_module_version": "1.2.0",
            "_view_count": null,
            "flex_flow": null,
            "width": null,
            "min_width": null,
            "border": null,
            "align_items": null,
            "bottom": null,
            "_model_module": "@jupyter-widgets/base",
            "top": null,
            "grid_column": null,
            "overflow_y": null,
            "overflow_x": null,
            "grid_auto_flow": null,
            "grid_area": null,
            "grid_template_columns": null,
            "flex": null,
            "_model_name": "LayoutModel",
            "justify_items": null,
            "grid_row": null,
            "max_height": null,
            "align_content": null,
            "visibility": null,
            "align_self": null,
            "height": null,
            "min_height": null,
            "padding": null,
            "grid_auto_rows": null,
            "grid_gap": null,
            "max_width": null,
            "order": null,
            "_view_module_version": "1.2.0",
            "grid_template_areas": null,
            "object_position": null,
            "object_fit": null,
            "grid_auto_columns": null,
            "margin": null,
            "display": null,
            "left": null
          }
        },
        "2dcff7ee9e4341cbb286fa91bd9923db": {
          "model_module": "@jupyter-widgets/controls",
          "model_name": "FloatProgressModel",
          "state": {
            "_view_name": "ProgressView",
            "style": "IPY_MODEL_b871fd5d530848a9a02f47764c3a6185",
            "_dom_classes": [],
            "description": "",
            "_model_name": "FloatProgressModel",
            "bar_style": "success",
            "max": 1,
            "_view_module": "@jupyter-widgets/controls",
            "_model_module_version": "1.5.0",
            "value": 1,
            "_view_count": null,
            "_view_module_version": "1.5.0",
            "orientation": "horizontal",
            "min": 0,
            "description_tooltip": null,
            "_model_module": "@jupyter-widgets/controls",
            "layout": "IPY_MODEL_790ba936013f4127a55e2b8b073ee90f"
          }
        },
        "23b61e3b9b374faa86c90a8e5efd8aef": {
          "model_module": "@jupyter-widgets/controls",
          "model_name": "HTMLModel",
          "state": {
            "_view_name": "HTMLView",
            "style": "IPY_MODEL_5c671e64391b413a847419a4672130e4",
            "_dom_classes": [],
            "description": "",
            "_model_name": "HTMLModel",
            "placeholder": "​",
            "_view_module": "@jupyter-widgets/controls",
            "_model_module_version": "1.5.0",
            "value": " 4423680/? [00:04&lt;00:00, 1039037.49it/s]",
            "_view_count": null,
            "_view_module_version": "1.5.0",
            "description_tooltip": null,
            "_model_module": "@jupyter-widgets/controls",
            "layout": "IPY_MODEL_0429790c0099476a87ae4151420c4dfa"
          }
        },
        "b871fd5d530848a9a02f47764c3a6185": {
          "model_module": "@jupyter-widgets/controls",
          "model_name": "ProgressStyleModel",
          "state": {
            "_view_name": "StyleView",
            "_model_name": "ProgressStyleModel",
            "description_width": "initial",
            "_view_module": "@jupyter-widgets/base",
            "_model_module_version": "1.5.0",
            "_view_count": null,
            "_view_module_version": "1.2.0",
            "bar_color": null,
            "_model_module": "@jupyter-widgets/controls"
          }
        },
        "790ba936013f4127a55e2b8b073ee90f": {
          "model_module": "@jupyter-widgets/base",
          "model_name": "LayoutModel",
          "state": {
            "_view_name": "LayoutView",
            "grid_template_rows": null,
            "right": null,
            "justify_content": null,
            "_view_module": "@jupyter-widgets/base",
            "overflow": null,
            "_model_module_version": "1.2.0",
            "_view_count": null,
            "flex_flow": null,
            "width": null,
            "min_width": null,
            "border": null,
            "align_items": null,
            "bottom": null,
            "_model_module": "@jupyter-widgets/base",
            "top": null,
            "grid_column": null,
            "overflow_y": null,
            "overflow_x": null,
            "grid_auto_flow": null,
            "grid_area": null,
            "grid_template_columns": null,
            "flex": null,
            "_model_name": "LayoutModel",
            "justify_items": null,
            "grid_row": null,
            "max_height": null,
            "align_content": null,
            "visibility": null,
            "align_self": null,
            "height": null,
            "min_height": null,
            "padding": null,
            "grid_auto_rows": null,
            "grid_gap": null,
            "max_width": null,
            "order": null,
            "_view_module_version": "1.2.0",
            "grid_template_areas": null,
            "object_position": null,
            "object_fit": null,
            "grid_auto_columns": null,
            "margin": null,
            "display": null,
            "left": null
          }
        },
        "5c671e64391b413a847419a4672130e4": {
          "model_module": "@jupyter-widgets/controls",
          "model_name": "DescriptionStyleModel",
          "state": {
            "_view_name": "StyleView",
            "_model_name": "DescriptionStyleModel",
            "description_width": "",
            "_view_module": "@jupyter-widgets/base",
            "_model_module_version": "1.5.0",
            "_view_count": null,
            "_view_module_version": "1.2.0",
            "_model_module": "@jupyter-widgets/controls"
          }
        },
        "0429790c0099476a87ae4151420c4dfa": {
          "model_module": "@jupyter-widgets/base",
          "model_name": "LayoutModel",
          "state": {
            "_view_name": "LayoutView",
            "grid_template_rows": null,
            "right": null,
            "justify_content": null,
            "_view_module": "@jupyter-widgets/base",
            "overflow": null,
            "_model_module_version": "1.2.0",
            "_view_count": null,
            "flex_flow": null,
            "width": null,
            "min_width": null,
            "border": null,
            "align_items": null,
            "bottom": null,
            "_model_module": "@jupyter-widgets/base",
            "top": null,
            "grid_column": null,
            "overflow_y": null,
            "overflow_x": null,
            "grid_auto_flow": null,
            "grid_area": null,
            "grid_template_columns": null,
            "flex": null,
            "_model_name": "LayoutModel",
            "justify_items": null,
            "grid_row": null,
            "max_height": null,
            "align_content": null,
            "visibility": null,
            "align_self": null,
            "height": null,
            "min_height": null,
            "padding": null,
            "grid_auto_rows": null,
            "grid_gap": null,
            "max_width": null,
            "order": null,
            "_view_module_version": "1.2.0",
            "grid_template_areas": null,
            "object_position": null,
            "object_fit": null,
            "grid_auto_columns": null,
            "margin": null,
            "display": null,
            "left": null
          }
        },
        "9eb9dec8098743bf8fd3967482cbadab": {
          "model_module": "@jupyter-widgets/controls",
          "model_name": "HBoxModel",
          "state": {
            "_view_name": "HBoxView",
            "_dom_classes": [],
            "_model_name": "HBoxModel",
            "_view_module": "@jupyter-widgets/controls",
            "_model_module_version": "1.5.0",
            "_view_count": null,
            "_view_module_version": "1.5.0",
            "box_style": "",
            "layout": "IPY_MODEL_fd033313dc0e46e199e3b0625ddaf1d9",
            "_model_module": "@jupyter-widgets/controls",
            "children": [
              "IPY_MODEL_3a92a00a7f84415ebc80f3d507ff9cf5",
              "IPY_MODEL_b242bcb0d1d4401a868b57128c88a876"
            ]
          }
        },
        "fd033313dc0e46e199e3b0625ddaf1d9": {
          "model_module": "@jupyter-widgets/base",
          "model_name": "LayoutModel",
          "state": {
            "_view_name": "LayoutView",
            "grid_template_rows": null,
            "right": null,
            "justify_content": null,
            "_view_module": "@jupyter-widgets/base",
            "overflow": null,
            "_model_module_version": "1.2.0",
            "_view_count": null,
            "flex_flow": null,
            "width": null,
            "min_width": null,
            "border": null,
            "align_items": null,
            "bottom": null,
            "_model_module": "@jupyter-widgets/base",
            "top": null,
            "grid_column": null,
            "overflow_y": null,
            "overflow_x": null,
            "grid_auto_flow": null,
            "grid_area": null,
            "grid_template_columns": null,
            "flex": null,
            "_model_name": "LayoutModel",
            "justify_items": null,
            "grid_row": null,
            "max_height": null,
            "align_content": null,
            "visibility": null,
            "align_self": null,
            "height": null,
            "min_height": null,
            "padding": null,
            "grid_auto_rows": null,
            "grid_gap": null,
            "max_width": null,
            "order": null,
            "_view_module_version": "1.2.0",
            "grid_template_areas": null,
            "object_position": null,
            "object_fit": null,
            "grid_auto_columns": null,
            "margin": null,
            "display": null,
            "left": null
          }
        },
        "3a92a00a7f84415ebc80f3d507ff9cf5": {
          "model_module": "@jupyter-widgets/controls",
          "model_name": "FloatProgressModel",
          "state": {
            "_view_name": "ProgressView",
            "style": "IPY_MODEL_3ebb18ea080c4ff9a1d90da09f924dcb",
            "_dom_classes": [],
            "description": "",
            "_model_name": "FloatProgressModel",
            "bar_style": "success",
            "max": 1,
            "_view_module": "@jupyter-widgets/controls",
            "_model_module_version": "1.5.0",
            "value": 1,
            "_view_count": null,
            "_view_module_version": "1.5.0",
            "orientation": "horizontal",
            "min": 0,
            "description_tooltip": null,
            "_model_module": "@jupyter-widgets/controls",
            "layout": "IPY_MODEL_eefb3c72944949cdb734a90aea28c76d"
          }
        },
        "b242bcb0d1d4401a868b57128c88a876": {
          "model_module": "@jupyter-widgets/controls",
          "model_name": "HTMLModel",
          "state": {
            "_view_name": "HTMLView",
            "style": "IPY_MODEL_17492f8871b74f30a467988967e35b05",
            "_dom_classes": [],
            "description": "",
            "_model_name": "HTMLModel",
            "placeholder": "​",
            "_view_module": "@jupyter-widgets/controls",
            "_model_module_version": "1.5.0",
            "value": " 8192/? [00:02&lt;00:00, 3037.80it/s]",
            "_view_count": null,
            "_view_module_version": "1.5.0",
            "description_tooltip": null,
            "_model_module": "@jupyter-widgets/controls",
            "layout": "IPY_MODEL_259861c977cc481db45140aba543bccf"
          }
        },
        "3ebb18ea080c4ff9a1d90da09f924dcb": {
          "model_module": "@jupyter-widgets/controls",
          "model_name": "ProgressStyleModel",
          "state": {
            "_view_name": "StyleView",
            "_model_name": "ProgressStyleModel",
            "description_width": "initial",
            "_view_module": "@jupyter-widgets/base",
            "_model_module_version": "1.5.0",
            "_view_count": null,
            "_view_module_version": "1.2.0",
            "bar_color": null,
            "_model_module": "@jupyter-widgets/controls"
          }
        },
        "eefb3c72944949cdb734a90aea28c76d": {
          "model_module": "@jupyter-widgets/base",
          "model_name": "LayoutModel",
          "state": {
            "_view_name": "LayoutView",
            "grid_template_rows": null,
            "right": null,
            "justify_content": null,
            "_view_module": "@jupyter-widgets/base",
            "overflow": null,
            "_model_module_version": "1.2.0",
            "_view_count": null,
            "flex_flow": null,
            "width": null,
            "min_width": null,
            "border": null,
            "align_items": null,
            "bottom": null,
            "_model_module": "@jupyter-widgets/base",
            "top": null,
            "grid_column": null,
            "overflow_y": null,
            "overflow_x": null,
            "grid_auto_flow": null,
            "grid_area": null,
            "grid_template_columns": null,
            "flex": null,
            "_model_name": "LayoutModel",
            "justify_items": null,
            "grid_row": null,
            "max_height": null,
            "align_content": null,
            "visibility": null,
            "align_self": null,
            "height": null,
            "min_height": null,
            "padding": null,
            "grid_auto_rows": null,
            "grid_gap": null,
            "max_width": null,
            "order": null,
            "_view_module_version": "1.2.0",
            "grid_template_areas": null,
            "object_position": null,
            "object_fit": null,
            "grid_auto_columns": null,
            "margin": null,
            "display": null,
            "left": null
          }
        },
        "17492f8871b74f30a467988967e35b05": {
          "model_module": "@jupyter-widgets/controls",
          "model_name": "DescriptionStyleModel",
          "state": {
            "_view_name": "StyleView",
            "_model_name": "DescriptionStyleModel",
            "description_width": "",
            "_view_module": "@jupyter-widgets/base",
            "_model_module_version": "1.5.0",
            "_view_count": null,
            "_view_module_version": "1.2.0",
            "_model_module": "@jupyter-widgets/controls"
          }
        },
        "259861c977cc481db45140aba543bccf": {
          "model_module": "@jupyter-widgets/base",
          "model_name": "LayoutModel",
          "state": {
            "_view_name": "LayoutView",
            "grid_template_rows": null,
            "right": null,
            "justify_content": null,
            "_view_module": "@jupyter-widgets/base",
            "overflow": null,
            "_model_module_version": "1.2.0",
            "_view_count": null,
            "flex_flow": null,
            "width": null,
            "min_width": null,
            "border": null,
            "align_items": null,
            "bottom": null,
            "_model_module": "@jupyter-widgets/base",
            "top": null,
            "grid_column": null,
            "overflow_y": null,
            "overflow_x": null,
            "grid_auto_flow": null,
            "grid_area": null,
            "grid_template_columns": null,
            "flex": null,
            "_model_name": "LayoutModel",
            "justify_items": null,
            "grid_row": null,
            "max_height": null,
            "align_content": null,
            "visibility": null,
            "align_self": null,
            "height": null,
            "min_height": null,
            "padding": null,
            "grid_auto_rows": null,
            "grid_gap": null,
            "max_width": null,
            "order": null,
            "_view_module_version": "1.2.0",
            "grid_template_areas": null,
            "object_position": null,
            "object_fit": null,
            "grid_auto_columns": null,
            "margin": null,
            "display": null,
            "left": null
          }
        }
      }
    }
  },
  "cells": [
    {
      "cell_type": "markdown",
      "metadata": {
        "id": "iwU72etAvB40"
      },
      "source": [
        "## Visualising DataSet and Importing Library"
      ]
    },
    {
      "cell_type": "code",
      "metadata": {
        "id": "oIBi4B_cdP6d"
      },
      "source": [
        "\n",
        "import numpy as np\n",
        "import matplotlib.pyplot as plt\n",
        "\n",
        "import torch\n",
        "import torchvision\n",
        "import torch.optim as optim\n",
        "import torchvision.transforms as transforms"
      ],
      "execution_count": 4,
      "outputs": []
    },
    {
      "cell_type": "code",
      "metadata": {
        "colab": {
          "base_uri": "https://localhost:8080/",
          "height": 386,
          "referenced_widgets": [
            "4d7f98378da643059b5c8c6ffce7f7bf",
            "583180e2715f4da8bfbbb617c240bfc5",
            "000f692d285f41d5a9a245587115f603",
            "d08590cd1ef44ec6924e37b9e7c37a04",
            "4bbab83654b84d9994d841fc0932f68b",
            "9e5f01ace7454d51997cab0cdf77f643",
            "326a21d9ac3846e992dff1fc44577942",
            "e80de2cfc8564114a1e2237b34aa48b7",
            "69202fb83123427c80f970a12ea2c1a8",
            "c567387b424d44498d1afa4b906ad8ed",
            "b4b3a486e13c4243b617e87fd6a4be2b",
            "4605fe570fff4832add3e643cdbb6176",
            "a25816d4e2fb4d14802a33398eca3d90",
            "2cbc7d00e7fd4984b8e9c947824ef2d2",
            "309a6303bce742d79af6c181f9e216db",
            "3c6aba1d830c48408f0c8a6e95adc560",
            "9ff62ecf98614f73b733c6e73bcc62bc",
            "b57bb9919877401b8ef035791d40053d",
            "2dcff7ee9e4341cbb286fa91bd9923db",
            "23b61e3b9b374faa86c90a8e5efd8aef",
            "b871fd5d530848a9a02f47764c3a6185",
            "790ba936013f4127a55e2b8b073ee90f",
            "5c671e64391b413a847419a4672130e4",
            "0429790c0099476a87ae4151420c4dfa",
            "9eb9dec8098743bf8fd3967482cbadab",
            "fd033313dc0e46e199e3b0625ddaf1d9",
            "3a92a00a7f84415ebc80f3d507ff9cf5",
            "b242bcb0d1d4401a868b57128c88a876",
            "3ebb18ea080c4ff9a1d90da09f924dcb",
            "eefb3c72944949cdb734a90aea28c76d",
            "17492f8871b74f30a467988967e35b05",
            "259861c977cc481db45140aba543bccf"
          ]
        },
        "id": "KTAU7yt5dm8a",
        "outputId": "cbcdbc3e-bee4-4620-d4dc-a7498bfd0559"
      },
      "source": [
        "# Downloading and Loading Data Set\n",
        "\n",
        "transform = transforms.Compose([transforms.ToTensor(),])\n",
        "\n",
        "trainset = torchvision.datasets.FashionMNIST(root='./data', train=True,download=True, transform=transform)\n",
        "trainloader = torch.utils.data.DataLoader(trainset, batch_size=32,shuffle=True, num_workers=2)\n",
        "\n",
        "testset = torchvision.datasets.FashionMNIST(root='./data', train=False,download=True, transform=transform)\n",
        "testloader = torch.utils.data.DataLoader(testset, batch_size=32, shuffle=False, num_workers=2)\n",
        "\n",
        "classes = ('T-shirt/top', 'Trouser', 'Pullover', 'Dress', 'Coat','Sandal', 'Shirt', 'Sneaker', 'Bag', 'Ankle boot')"
      ],
      "execution_count": 2,
      "outputs": [
        {
          "output_type": "stream",
          "text": [
            "Downloading http://fashion-mnist.s3-website.eu-central-1.amazonaws.com/train-images-idx3-ubyte.gz to ./data/FashionMNIST/raw/train-images-idx3-ubyte.gz\n"
          ],
          "name": "stdout"
        },
        {
          "output_type": "display_data",
          "data": {
            "application/vnd.jupyter.widget-view+json": {
              "model_id": "4d7f98378da643059b5c8c6ffce7f7bf",
              "version_minor": 0,
              "version_major": 2
            },
            "text/plain": [
              "HBox(children=(FloatProgress(value=1.0, bar_style='info', max=1.0), HTML(value='')))"
            ]
          },
          "metadata": {
            "tags": []
          }
        },
        {
          "output_type": "stream",
          "text": [
            "Extracting ./data/FashionMNIST/raw/train-images-idx3-ubyte.gz to ./data/FashionMNIST/raw\n",
            "Downloading http://fashion-mnist.s3-website.eu-central-1.amazonaws.com/train-labels-idx1-ubyte.gz to ./data/FashionMNIST/raw/train-labels-idx1-ubyte.gz\n"
          ],
          "name": "stdout"
        },
        {
          "output_type": "display_data",
          "data": {
            "application/vnd.jupyter.widget-view+json": {
              "model_id": "69202fb83123427c80f970a12ea2c1a8",
              "version_minor": 0,
              "version_major": 2
            },
            "text/plain": [
              "HBox(children=(FloatProgress(value=1.0, bar_style='info', max=1.0), HTML(value='')))"
            ]
          },
          "metadata": {
            "tags": []
          }
        },
        {
          "output_type": "stream",
          "text": [
            "Extracting ./data/FashionMNIST/raw/train-labels-idx1-ubyte.gz to ./data/FashionMNIST/raw\n",
            "Downloading http://fashion-mnist.s3-website.eu-central-1.amazonaws.com/t10k-images-idx3-ubyte.gz to ./data/FashionMNIST/raw/t10k-images-idx3-ubyte.gz\n",
            "\n"
          ],
          "name": "stdout"
        },
        {
          "output_type": "display_data",
          "data": {
            "application/vnd.jupyter.widget-view+json": {
              "model_id": "9ff62ecf98614f73b733c6e73bcc62bc",
              "version_minor": 0,
              "version_major": 2
            },
            "text/plain": [
              "HBox(children=(FloatProgress(value=1.0, bar_style='info', max=1.0), HTML(value='')))"
            ]
          },
          "metadata": {
            "tags": []
          }
        },
        {
          "output_type": "stream",
          "text": [
            "Extracting ./data/FashionMNIST/raw/t10k-images-idx3-ubyte.gz to ./data/FashionMNIST/raw\n",
            "Downloading http://fashion-mnist.s3-website.eu-central-1.amazonaws.com/t10k-labels-idx1-ubyte.gz to ./data/FashionMNIST/raw/t10k-labels-idx1-ubyte.gz\n"
          ],
          "name": "stdout"
        },
        {
          "output_type": "display_data",
          "data": {
            "application/vnd.jupyter.widget-view+json": {
              "model_id": "9eb9dec8098743bf8fd3967482cbadab",
              "version_minor": 0,
              "version_major": 2
            },
            "text/plain": [
              "HBox(children=(FloatProgress(value=1.0, bar_style='info', max=1.0), HTML(value='')))"
            ]
          },
          "metadata": {
            "tags": []
          }
        },
        {
          "output_type": "stream",
          "text": [
            "Extracting ./data/FashionMNIST/raw/t10k-labels-idx1-ubyte.gz to ./data/FashionMNIST/raw\n",
            "Processing...\n",
            "Done!\n"
          ],
          "name": "stdout"
        },
        {
          "output_type": "stream",
          "text": [
            "/usr/local/lib/python3.6/dist-packages/torchvision/datasets/mnist.py:480: UserWarning: The given NumPy array is not writeable, and PyTorch does not support non-writeable tensors. This means you can write to the underlying (supposedly non-writeable) NumPy array using the tensor. You may want to copy the array to protect its data or make it writeable before converting it to a tensor. This type of warning will be suppressed for the rest of this program. (Triggered internally at  /pytorch/torch/csrc/utils/tensor_numpy.cpp:141.)\n",
            "  return torch.from_numpy(parsed.astype(m[2], copy=False)).view(*s)\n"
          ],
          "name": "stderr"
        }
      ]
    },
    {
      "cell_type": "code",
      "metadata": {
        "colab": {
          "base_uri": "https://localhost:8080/",
          "height": 518
        },
        "id": "bT5hdeO3ecmv",
        "outputId": "d89d1e5a-5d3f-434f-f54f-7bd3ab95af72"
      },
      "source": [
        "# Visualising 10 random sample from training data\n",
        "indexes = np.random.randint(0, trainset.data.shape[0], size=10)\n",
        "\n",
        "plt.figure(figsize=(12, 12))\n",
        "\n",
        "for i in range(len(indexes)):\n",
        "    sub = plt.subplot(2, 5, i + 1)\n",
        "    image = trainset.data[indexes[i]]\n",
        "    plt.imshow(image, cmap='gray')\n",
        "    plt.axis('off')\n",
        "    sub.set_title(\"Label : \" + str(classes[int(trainset.targets[indexes[i]])]))\n",
        "plt.savefig('Vis.png')\n",
        "plt.show()\n",
        "\n",
        "plt.close('all')"
      ],
      "execution_count": 5,
      "outputs": [
        {
          "output_type": "display_data",
          "data": {
            "image/png": "[encoded data removed]",
            "text/plain": [
              "<Figure size 864x864 with 10 Axes>"
            ]
          },
          "metadata": {
            "tags": [],
            "needs_background": "light"
          }
        }
      ]
    },
    {
      "cell_type": "code",
      "metadata": {
        "colab": {
          "base_uri": "https://localhost:8080/"
        },
        "id": "QWh10Ob8h0wE",
        "outputId": "3bbf1b3c-0f7b-408b-ac93-962ccc6d8e83"
      },
      "source": [
        "trainset.data.shape\n"
      ],
      "execution_count": 6,
      "outputs": [
        {
          "output_type": "execute_result",
          "data": {
            "text/plain": [
              "torch.Size([60000, 28, 28])"
            ]
          },
          "metadata": {
            "tags": []
          },
          "execution_count": 6
        }
      ]
    },
    {
      "cell_type": "markdown",
      "metadata": {
        "id": "qCtYyQamu9AB"
      },
      "source": [
        "## Defining Model"
      ]
    },
    {
      "cell_type": "code",
      "metadata": {
        "id": "t1uLjhBahHtq"
      },
      "source": [
        "import torch.nn as nn\n",
        "import torch.nn.functional as F\n",
        "\n",
        "\n",
        "class Net(nn.Module):\n",
        "    def __init__(self):\n",
        "        super(Net, self).__init__() \n",
        "      \n",
        "        self.conv1 = nn.Conv2d(1, 6, 3)  # 28x28x1 ---> 26x26x6  \n",
        "\n",
        "        self.pool = nn.MaxPool2d(2, 2)   # 26x26x6  ---> 13x13x6 \n",
        "\n",
        "        self.conv2 = nn.Conv2d(6, 8, 3)  #  13x13x6 ---> 11x11x8\n",
        "        \n",
        "\n",
        "        self.conv3 = nn.Conv2d(8 , 10, 1) # 11x11x8 ---> 11x11x10\n",
        "\n",
        "        self.conv4 = nn.Conv2d(10, 12, 1) # 11x11x10 ---> 11x11x12\n",
        "\n",
        "        self.conv5 = nn.Conv2d(12, 14, 1) # 11x11x12 ---> 11x11x14\n",
        "        \n",
        "        self.BatchNorm = nn.BatchNorm2d(14)\n",
        "        self.conv6 = nn.Conv2d(14, 16, 1) # 11x11x14 ---> 11x11x16\n",
        "    \n",
        "        self.fc1 = nn.Linear(16 * 11 * 11, 1024)\n",
        "        self.fc2 = nn.Linear(1024, 512)\n",
        "        self.BatchNorm1 = nn.BatchNorm1d(512)\n",
        "        self.fc3 = nn.Linear(512, 256)\n",
        "        self.fc4 = nn.Linear(256, 10)\n",
        "\n",
        "    def forward(self, x):\n",
        "        x = self.pool(F.relu(self.conv1(x)))\n",
        "        x = F.relu(self.conv2(x))\n",
        "        x = F.relu(self.conv3(x))\n",
        "        x = F.relu(self.conv4(x))\n",
        "        x = self.BatchNorm(F.relu(self.conv5(x)))\n",
        "        x = F.relu(self.conv6(x))\n",
        "\n",
        "        x = x.view(-1, 16*11*11)\n",
        "        x = F.relu(self.fc1(x))\n",
        "        x = self.BatchNorm1(F.relu(self.fc2(x)))\n",
        "        x = F.relu(self.fc3(x))\n",
        "        x = self.fc4(x)\n",
        "        return x\n"
      ],
      "execution_count": 8,
      "outputs": []
    },
    {
      "cell_type": "code",
      "metadata": {
        "colab": {
          "base_uri": "https://localhost:8080/"
        },
        "id": "YOgTNnOVjheC",
        "outputId": "7cd3aa45-13a8-429f-dec4-fb2a1834d537"
      },
      "source": [
        "# Initializing GPU\n",
        "device = torch.device(\"cuda:0\" if torch.cuda.is_available() else \"cpu\")\n",
        "print(device)\n",
        "\n",
        "net = Net()\n",
        "net.to(device)"
      ],
      "execution_count": 9,
      "outputs": [
        {
          "output_type": "stream",
          "text": [
            "cuda:0\n"
          ],
          "name": "stdout"
        },
        {
          "output_type": "execute_result",
          "data": {
            "text/plain": [
              "Net(\n",
              "  (conv1): Conv2d(1, 6, kernel_size=(3, 3), stride=(1, 1))\n",
              "  (pool): MaxPool2d(kernel_size=2, stride=2, padding=0, dilation=1, ceil_mode=False)\n",
              "  (conv2): Conv2d(6, 8, kernel_size=(3, 3), stride=(1, 1))\n",
              "  (conv3): Conv2d(8, 10, kernel_size=(1, 1), stride=(1, 1))\n",
              "  (conv4): Conv2d(10, 12, kernel_size=(1, 1), stride=(1, 1))\n",
              "  (conv5): Conv2d(12, 14, kernel_size=(1, 1), stride=(1, 1))\n",
              "  (BatchNorm): BatchNorm2d(14, eps=1e-05, momentum=0.1, affine=True, track_running_stats=True)\n",
              "  (conv6): Conv2d(14, 16, kernel_size=(1, 1), stride=(1, 1))\n",
              "  (fc1): Linear(in_features=1936, out_features=1024, bias=True)\n",
              "  (fc2): Linear(in_features=1024, out_features=512, bias=True)\n",
              "  (BatchNorm1): BatchNorm1d(512, eps=1e-05, momentum=0.1, affine=True, track_running_stats=True)\n",
              "  (fc3): Linear(in_features=512, out_features=256, bias=True)\n",
              "  (fc4): Linear(in_features=256, out_features=10, bias=True)\n",
              ")"
            ]
          },
          "metadata": {
            "tags": []
          },
          "execution_count": 9
        }
      ]
    },
    {
      "cell_type": "code",
      "metadata": {
        "colab": {
          "base_uri": "https://localhost:8080/"
        },
        "id": "3jAbu7byjngk",
        "outputId": "e0fd6baa-ec6c-40e4-a046-d377b0d39a33"
      },
      "source": [
        "from torchsummary import summary\n",
        "summary(net,(1, 28, 28))"
      ],
      "execution_count": 10,
      "outputs": [
        {
          "output_type": "stream",
          "text": [
            "----------------------------------------------------------------\n",
            "        Layer (type)               Output Shape         Param #\n",
            "================================================================\n",
            "            Conv2d-1            [-1, 6, 26, 26]              60\n",
            "         MaxPool2d-2            [-1, 6, 13, 13]               0\n",
            "            Conv2d-3            [-1, 8, 11, 11]             440\n",
            "            Conv2d-4           [-1, 10, 11, 11]              90\n",
            "            Conv2d-5           [-1, 12, 11, 11]             132\n",
            "            Conv2d-6           [-1, 14, 11, 11]             182\n",
            "       BatchNorm2d-7           [-1, 14, 11, 11]              28\n",
            "            Conv2d-8           [-1, 16, 11, 11]             240\n",
            "            Linear-9                 [-1, 1024]       1,983,488\n",
            "           Linear-10                  [-1, 512]         524,800\n",
            "      BatchNorm1d-11                  [-1, 512]           1,024\n",
            "           Linear-12                  [-1, 256]         131,328\n",
            "           Linear-13                   [-1, 10]           2,570\n",
            "================================================================\n",
            "Total params: 2,644,382\n",
            "Trainable params: 2,644,382\n",
            "Non-trainable params: 0\n",
            "----------------------------------------------------------------\n",
            "Input size (MB): 0.00\n",
            "Forward/backward pass size (MB): 0.12\n",
            "Params size (MB): 10.09\n",
            "Estimated Total Size (MB): 10.22\n",
            "----------------------------------------------------------------\n"
          ],
          "name": "stdout"
        }
      ]
    },
    {
      "cell_type": "markdown",
      "metadata": {
        "id": "zTNHimjlkPa3"
      },
      "source": [
        "## USING SGD"
      ]
    },
    {
      "cell_type": "code",
      "metadata": {
        "colab": {
          "base_uri": "https://localhost:8080/"
        },
        "id": "At3QemJtkRu-",
        "outputId": "67b65202-9aad-459e-f189-0ff0e47785c7"
      },
      "source": [
        "#SGD\n",
        "learning_rate = [1,0.1,0.01,0.001,0.0001]\n",
        "Acc_SGD = []\n",
        "loss_SGD = []\n",
        "for lrate in learning_rate :\n",
        "\n",
        "  net = Net()\n",
        "  net.to(device)\n",
        "\n",
        "  Acc_V_SGD = []\n",
        "  loss_V_SGD = []\n",
        "\n",
        "  criterion = nn.CrossEntropyLoss()\n",
        "  optimizer = optim.SGD(net.parameters(), lr =lrate, momentum=0.9)\n",
        "\n",
        "  for epoch in range(10):  # loop over the dataset multiple times\n",
        "\n",
        "      running_loss = 0.0\n",
        "      for i, data in enumerate(trainloader, 0):\n",
        "          # get the inputs; data is a list of [inputs, labels]\n",
        "        inputs, labels = data[0].to(device), data[1].to(device)\n",
        "\n",
        "          # zero the parameter gradients\n",
        "        optimizer.zero_grad()\n",
        "\n",
        "          # forward + backward + optimize\n",
        "        outputs = net(inputs)\n",
        "        loss = criterion(outputs, labels)\n",
        "        loss.backward()\n",
        "        optimizer.step()\n",
        "\n",
        "        running_loss = loss.item()\n",
        "        loss_V_SGD.append(float(running_loss))\n",
        "  \n",
        "\n",
        "      correct = 0\n",
        "      total = 0\n",
        "      with torch.no_grad():\n",
        "          for data in testloader:\n",
        "              images, labels = data[0].to(device), data[1].to(device)\n",
        "              outputs = net(images)\n",
        "              _, predicted = torch.max(outputs.data, 1)\n",
        "              total += labels.size(0)\n",
        "              correct += (predicted == labels).sum().item()\n",
        "      \n",
        "      temp = (100 * correct / total)\n",
        "      Acc_V_SGD.append(temp)\n",
        "      print('%d Epoch Complete...'%epoch)\n",
        "  Acc_SGD.append(Acc_V_SGD)\n",
        "  loss_SGD.append(loss_V_SGD)\n",
        "  print('Completed for learning rate '+ str(lrate))\n",
        "\n",
        "print('Finished Training SGD')"
      ],
      "execution_count": 11,
      "outputs": [
        {
          "output_type": "stream",
          "text": [
            "0 Epoch Complete...\n",
            "1 Epoch Complete...\n",
            "2 Epoch Complete...\n",
            "3 Epoch Complete...\n",
            "4 Epoch Complete...\n",
            "5 Epoch Complete...\n",
            "6 Epoch Complete...\n",
            "7 Epoch Complete...\n",
            "8 Epoch Complete...\n",
            "9 Epoch Complete...\n",
            "Completed for learning rate 1\n",
            "0 Epoch Complete...\n",
            "1 Epoch Complete...\n",
            "2 Epoch Complete...\n",
            "3 Epoch Complete...\n",
            "4 Epoch Complete...\n",
            "5 Epoch Complete...\n",
            "6 Epoch Complete...\n",
            "7 Epoch Complete...\n",
            "8 Epoch Complete...\n",
            "9 Epoch Complete...\n",
            "Completed for learning rate 0.1\n",
            "0 Epoch Complete...\n",
            "1 Epoch Complete...\n",
            "2 Epoch Complete...\n",
            "3 Epoch Complete...\n",
            "4 Epoch Complete...\n",
            "5 Epoch Complete...\n",
            "6 Epoch Complete...\n",
            "7 Epoch Complete...\n",
            "8 Epoch Complete...\n",
            "9 Epoch Complete...\n",
            "Completed for learning rate 0.01\n",
            "0 Epoch Complete...\n",
            "1 Epoch Complete...\n",
            "2 Epoch Complete...\n",
            "3 Epoch Complete...\n",
            "4 Epoch Complete...\n",
            "5 Epoch Complete...\n",
            "6 Epoch Complete...\n",
            "7 Epoch Complete...\n",
            "8 Epoch Complete...\n",
            "9 Epoch Complete...\n",
            "Completed for learning rate 0.001\n",
            "0 Epoch Complete...\n",
            "1 Epoch Complete...\n",
            "2 Epoch Complete...\n",
            "3 Epoch Complete...\n",
            "4 Epoch Complete...\n",
            "5 Epoch Complete...\n",
            "6 Epoch Complete...\n",
            "7 Epoch Complete...\n",
            "8 Epoch Complete...\n",
            "9 Epoch Complete...\n",
            "Completed for learning rate 0.0001\n",
            "Finished Training SGD\n"
          ],
          "name": "stdout"
        }
      ]
    },
    {
      "cell_type": "code",
      "metadata": {
        "colab": {
          "base_uri": "https://localhost:8080/"
        },
        "id": "nzolRRgsh3Eq",
        "outputId": "4aa590de-c8a1-45dd-de5c-d8954b4f20d5"
      },
      "source": [
        "Acc_SGD"
      ],
      "execution_count": 35,
      "outputs": [
        {
          "output_type": "execute_result",
          "data": {
            "text/plain": [
              "[[10.0, 10.0, 10.0, 10.0, 10.0, 10.0, 10.0, 10.0, 10.0, 10.0],\n",
              " [63.98, 71.98, 71.55, 70.78, 74.43, 75.03, 74.49, 77.06, 76.2, 77.62],\n",
              " [86.06, 87.88, 88.37, 88.52, 89.76, 89.39, 89.84, 89.46, 89.79, 89.09],\n",
              " [86.5, 87.47, 88.12, 88.59, 89.24, 88.88, 88.96, 89.67, 89.41, 89.27],\n",
              " [80.58, 84.01, 85.49, 86.71, 87.08, 87.22, 87.67, 88.19, 88.35, 88.55]]"
            ]
          },
          "metadata": {
            "tags": []
          },
          "execution_count": 35
        }
      ]
    },
    {
      "cell_type": "code",
      "metadata": {
        "id": "mS4yzsSutFZI"
      },
      "source": [
        ""
      ],
      "execution_count": null,
      "outputs": []
    },
    {
      "cell_type": "code",
      "metadata": {
        "colab": {
          "base_uri": "https://localhost:8080/",
          "height": 380
        },
        "id": "TJ3wWdfFnrRQ",
        "outputId": "9afe4122-6180-4c02-b6c0-179d10f6104b"
      },
      "source": [
        "#Plotting result\n",
        "\n",
        "plt.style.use(\"seaborn\")\n",
        "plt.xlabel(\"Learning rate\")\n",
        "plt.ylabel(\"Accuracy\")\n",
        "plt.title(\"SGD\")\n",
        "plt.xticks([0,1,2,3,4], ['$10^0$','$10^{-1}$','$10^{-2}$','$10^{-3}$','$10^{-4}$']) \n",
        "\n",
        "temp = Acc_SGD\n",
        "y = (np.max(temp,axis=1)/100).tolist()\n",
        "\n",
        "p = max(y)\n",
        "q = y.index(p)\n",
        "\n",
        "plt.scatter(q,p,marker='x',c='r',s=100,zorder=10,linewidth=3)\n",
        "\n",
        "\n",
        "x = np.arange(len(y))\n",
        "plt.plot(x,y)\n",
        "\n",
        "plt.savefig('./SGD.png')\n",
        "plt.show()"
      ],
      "execution_count": 34,
      "outputs": [
        {
          "output_type": "display_data",
          "data": {
            "image/png": "[encoded data removed]",
            "text/plain": [
              "<Figure size 576x396 with 1 Axes>"
            ]
          },
          "metadata": {
            "tags": []
          }
        }
      ]
    },
    {
      "cell_type": "code",
      "metadata": {
        "id": "LaidulM4ky9Z"
      },
      "source": [
        ""
      ],
      "execution_count": 32,
      "outputs": []
    },
    {
      "cell_type": "markdown",
      "metadata": {
        "id": "-f82AkzLtq07"
      },
      "source": [
        "## Using Adam"
      ]
    },
    {
      "cell_type": "code",
      "metadata": {
        "colab": {
          "base_uri": "https://localhost:8080/"
        },
        "id": "RNNkzAv8ttDu",
        "outputId": "8280a419-30ba-4812-a35d-2dcffeb004c3"
      },
      "source": [
        "#Adam\n",
        "learning_rate = [1,0.1,0.01,0.001,0.0001]\n",
        "Acc_Adam = []\n",
        "loss_Adam = []\n",
        "for lrate in learning_rate :\n",
        "\n",
        "  net = Net()\n",
        "  net.to(device)\n",
        "\n",
        "  Acc = []\n",
        "  lss = []\n",
        "\n",
        "  criterion = nn.CrossEntropyLoss()\n",
        "  optimizer = optim.Adam(net.parameters(), lr=lrate)\n",
        "\n",
        "  for epoch in range(10):  # loop over the dataset multiple times\n",
        "\n",
        "      running_loss = 0.0\n",
        "      for i, data in enumerate(trainloader, 0):\n",
        "          # get the inputs; data is a list of [inputs, labels]\n",
        "        inputs, labels = data[0].to(device), data[1].to(device)\n",
        "\n",
        "          # zero the parameter gradients\n",
        "        optimizer.zero_grad()\n",
        "\n",
        "          # forward + backward + optimize\n",
        "        outputs = net(inputs)\n",
        "        loss = criterion(outputs, labels)\n",
        "        loss.backward()\n",
        "        optimizer.step()\n",
        "\n",
        "        running_loss = loss.item()\n",
        "        lss.append(float(running_loss))\n",
        "  \n",
        "\n",
        "      correct = 0\n",
        "      total = 0\n",
        "      with torch.no_grad():\n",
        "          for data in testloader:\n",
        "              images, labels = data[0].to(device), data[1].to(device)\n",
        "              outputs = net(images)\n",
        "              _, predicted = torch.max(outputs.data, 1)\n",
        "              total += labels.size(0)\n",
        "              correct += (predicted == labels).sum().item()\n",
        "      \n",
        "      temp = (100 * correct / total)\n",
        "      Acc.append(temp)\n",
        "      print('%d Epoch Complete...'%epoch)\n",
        "  Acc_Adam.append(Acc)\n",
        "  loss_Adam.append(lss)\n",
        "  print('Completed for learning rate '+ str(lrate))\n",
        "\n",
        "print('Finished Training Adam')"
      ],
      "execution_count": 43,
      "outputs": [
        {
          "output_type": "stream",
          "text": [
            "0 Epoch Complete...\n",
            "1 Epoch Complete...\n",
            "2 Epoch Complete...\n",
            "3 Epoch Complete...\n",
            "4 Epoch Complete...\n",
            "5 Epoch Complete...\n",
            "6 Epoch Complete...\n",
            "7 Epoch Complete...\n",
            "8 Epoch Complete...\n",
            "9 Epoch Complete...\n",
            "Completed for learning rate 1\n",
            "0 Epoch Complete...\n",
            "1 Epoch Complete...\n",
            "2 Epoch Complete...\n",
            "3 Epoch Complete...\n",
            "4 Epoch Complete...\n",
            "5 Epoch Complete...\n",
            "6 Epoch Complete...\n",
            "7 Epoch Complete...\n",
            "8 Epoch Complete...\n",
            "9 Epoch Complete...\n",
            "Completed for learning rate 0.1\n",
            "0 Epoch Complete...\n",
            "1 Epoch Complete...\n",
            "2 Epoch Complete...\n",
            "3 Epoch Complete...\n",
            "4 Epoch Complete...\n",
            "5 Epoch Complete...\n",
            "6 Epoch Complete...\n",
            "7 Epoch Complete...\n",
            "8 Epoch Complete...\n",
            "9 Epoch Complete...\n",
            "Completed for learning rate 0.01\n",
            "0 Epoch Complete...\n",
            "1 Epoch Complete...\n",
            "2 Epoch Complete...\n",
            "3 Epoch Complete...\n",
            "4 Epoch Complete...\n",
            "5 Epoch Complete...\n",
            "6 Epoch Complete...\n",
            "7 Epoch Complete...\n",
            "8 Epoch Complete...\n",
            "9 Epoch Complete...\n",
            "Completed for learning rate 0.001\n",
            "0 Epoch Complete...\n",
            "1 Epoch Complete...\n",
            "2 Epoch Complete...\n",
            "3 Epoch Complete...\n",
            "4 Epoch Complete...\n",
            "5 Epoch Complete...\n",
            "6 Epoch Complete...\n",
            "7 Epoch Complete...\n",
            "8 Epoch Complete...\n",
            "9 Epoch Complete...\n",
            "Completed for learning rate 0.0001\n",
            "Finished Training Adam\n"
          ],
          "name": "stdout"
        }
      ]
    },
    {
      "cell_type": "code",
      "metadata": {
        "colab": {
          "base_uri": "https://localhost:8080/",
          "height": 380
        },
        "id": "1r6Lf6jJuij_",
        "outputId": "a5c2bf08-2800-4b35-a19b-4abfbfe6062c"
      },
      "source": [
        "#Plotting result\n",
        "\n",
        "plt.style.use(\"seaborn\")\n",
        "plt.xlabel(\"Learning rate\")\n",
        "plt.ylabel(\"Accuracy\")\n",
        "plt.title(\"ADAM\")\n",
        "plt.xticks([0,1,2,3,4], ['$10^0$','$10^{-1}$','$10^{-2}$','$10^{-3}$','$10^{-4}$']) \n",
        "\n",
        "temp = Acc_Adam\n",
        "y = (np.max(temp,axis=1)/100).tolist()\n",
        "\n",
        "p = max(y)\n",
        "q = y.index(p)\n",
        "\n",
        "plt.scatter(q,p,marker='x',c='r',s=100,zorder=10,linewidth=3)\n",
        "\n",
        "\n",
        "x = np.arange(len(y))\n",
        "plt.plot(x,y)\n",
        "\n",
        "plt.savefig('./Adam.png')\n",
        "plt.show()"
      ],
      "execution_count": 48,
      "outputs": [
        {
          "output_type": "display_data",
          "data": {
            "image/png": "[encoded data removed]",
            "text/plain": [
              "<Figure size 576x396 with 1 Axes>"
            ]
          },
          "metadata": {
            "tags": []
          }
        }
      ]
    },
    {
      "cell_type": "code",
      "metadata": {
        "id": "PKbQNhrgu3tA"
      },
      "source": [
        ""
      ],
      "execution_count": null,
      "outputs": []
    },
    {
      "cell_type": "markdown",
      "metadata": {
        "id": "c5EU9wu6vLH2"
      },
      "source": [
        "## Using Madam"
      ]
    },
    {
      "cell_type": "markdown",
      "metadata": {
        "id": "FUKsf_IfvZwy"
      },
      "source": [
        "### Defining MADAM Optimizer"
      ]
    },
    {
      "cell_type": "code",
      "metadata": {
        "id": "DN5I31KBvgmk"
      },
      "source": [
        "import torch\n",
        "from torch.optim.optimizer import Optimizer, required\n",
        "\n",
        "\n",
        "class Madam(Optimizer):\n",
        "\n",
        "    def __init__(self, params, lr=0.01, p_scale=3.0, g_bound=10.0):\n",
        "\n",
        "        self.p_scale = p_scale\n",
        "        self.g_bound = g_bound\n",
        "        defaults = dict(lr=lr)\n",
        "        super(Madam, self).__init__(params, defaults)\n",
        "\n",
        "    def step(self, closure=None):\n",
        "        \"\"\"Performs a single optimization step.\n",
        "        Arguments:\n",
        "            closure (callable, optional): A closure that reevaluates the model\n",
        "                and returns the loss.\n",
        "        \"\"\"\n",
        "        loss = None\n",
        "        if closure is not None:\n",
        "            loss = closure()\n",
        "\n",
        "        for group in self.param_groups:\n",
        "            for p in group['params']:\n",
        "                if p.grad is None:\n",
        "                    continue\n",
        "\n",
        "                state = self.state[p]\n",
        "                if len(state) == 0:\n",
        "                    state['max'] = self.p_scale*(p*p).mean().sqrt().item()\n",
        "                    state['step'] = 0\n",
        "                    state['exp_avg_sq'] = torch.zeros_like(p)\n",
        "\n",
        "                state['step'] += 1\n",
        "                bias_correction = 1 - 0.999 ** state['step']\n",
        "                state['exp_avg_sq'] = 0.999 * state['exp_avg_sq'] + 0.001 * p.grad.data**2\n",
        "                \n",
        "                g_normed = p.grad.data / (state['exp_avg_sq']/bias_correction).sqrt()\n",
        "                g_normed[torch.isnan(g_normed)] = 0\n",
        "                g_normed.clamp_(-self.g_bound, self.g_bound)\n",
        "                \n",
        "                p.data *= torch.exp( -group['lr']*g_normed*torch.sign(p.data) )\n",
        "                p.data.clamp_(-state['max'], state['max'])\n",
        "\n",
        "        return loss\n"
      ],
      "execution_count": 45,
      "outputs": []
    },
    {
      "cell_type": "markdown",
      "metadata": {
        "id": "e80UlCT0vrYI"
      },
      "source": [
        "### Driver Code for MADAM"
      ]
    },
    {
      "cell_type": "code",
      "metadata": {
        "colab": {
          "base_uri": "https://localhost:8080/"
        },
        "id": "hoZx3A2zvld4",
        "outputId": "a245ea00-d00c-44c6-c14e-6cd8d774047f"
      },
      "source": [
        "learning_rate = [1,0.1,0.01,0.001,0.0001]\n",
        "Acc_MADAM = []\n",
        "loss_MADAM = []\n",
        "for lrate in learning_rate :\n",
        "\n",
        "  net = Net()\n",
        "  net.to(device)\n",
        "\n",
        "  Acc = []\n",
        "  lss = []\n",
        "\n",
        "  criterion = nn.CrossEntropyLoss()\n",
        "  optimizer = Madam(net.parameters(), lr=lrate, p_scale=3.0, g_bound=10.0)\n",
        "\n",
        "  for epoch in range(10):  # loop over the dataset multiple times\n",
        "\n",
        "      running_loss = 0.0\n",
        "      for i, data in enumerate(trainloader, 0):\n",
        "          # get the inputs; data is a list of [inputs, labels]\n",
        "        inputs, labels = data[0].to(device), data[1].to(device)\n",
        "\n",
        "          # zero the parameter gradients\n",
        "        optimizer.zero_grad()\n",
        "\n",
        "          # forward + backward + optimize\n",
        "        outputs = net(inputs)\n",
        "        loss = criterion(outputs, labels)\n",
        "        loss.backward()\n",
        "        optimizer.step()\n",
        "\n",
        "        running_loss = loss.item()\n",
        "        lss.append(float(running_loss))\n",
        "  \n",
        "\n",
        "      correct = 0\n",
        "      total = 0\n",
        "      with torch.no_grad():\n",
        "          for data in testloader:\n",
        "              images, labels = data[0].to(device), data[1].to(device)\n",
        "              outputs = net(images)\n",
        "              _, predicted = torch.max(outputs.data, 1)\n",
        "              total += labels.size(0)\n",
        "              correct += (predicted == labels).sum().item()\n",
        "      \n",
        "      temp = (100 * correct / total)\n",
        "      Acc.append(temp)\n",
        "      print('%d Epoch Complete...'%epoch)\n",
        "  Acc_MADAM.append(Acc)\n",
        "  loss_MADAM.append(lss)\n",
        "  print('Completed for learning rate '+ str(lrate))\n",
        "\n",
        "print('Finished Training MADAM')"
      ],
      "execution_count": 46,
      "outputs": [
        {
          "output_type": "stream",
          "text": [
            "0 Epoch Complete...\n",
            "1 Epoch Complete...\n",
            "2 Epoch Complete...\n",
            "3 Epoch Complete...\n",
            "4 Epoch Complete...\n",
            "5 Epoch Complete...\n",
            "6 Epoch Complete...\n",
            "7 Epoch Complete...\n",
            "8 Epoch Complete...\n",
            "9 Epoch Complete...\n",
            "Completed for learning rate 1\n",
            "0 Epoch Complete...\n",
            "1 Epoch Complete...\n",
            "2 Epoch Complete...\n",
            "3 Epoch Complete...\n",
            "4 Epoch Complete...\n",
            "5 Epoch Complete...\n",
            "6 Epoch Complete...\n",
            "7 Epoch Complete...\n",
            "8 Epoch Complete...\n",
            "9 Epoch Complete...\n",
            "Completed for learning rate 0.1\n",
            "0 Epoch Complete...\n",
            "1 Epoch Complete...\n",
            "2 Epoch Complete...\n",
            "3 Epoch Complete...\n",
            "4 Epoch Complete...\n",
            "5 Epoch Complete...\n",
            "6 Epoch Complete...\n",
            "7 Epoch Complete...\n",
            "8 Epoch Complete...\n",
            "9 Epoch Complete...\n",
            "Completed for learning rate 0.01\n",
            "0 Epoch Complete...\n",
            "1 Epoch Complete...\n",
            "2 Epoch Complete...\n",
            "3 Epoch Complete...\n",
            "4 Epoch Complete...\n",
            "5 Epoch Complete...\n",
            "6 Epoch Complete...\n",
            "7 Epoch Complete...\n",
            "8 Epoch Complete...\n",
            "9 Epoch Complete...\n",
            "Completed for learning rate 0.001\n",
            "0 Epoch Complete...\n",
            "1 Epoch Complete...\n",
            "2 Epoch Complete...\n",
            "3 Epoch Complete...\n",
            "4 Epoch Complete...\n",
            "5 Epoch Complete...\n",
            "6 Epoch Complete...\n",
            "7 Epoch Complete...\n",
            "8 Epoch Complete...\n",
            "9 Epoch Complete...\n",
            "Completed for learning rate 0.0001\n",
            "Finished Training MADAM\n"
          ],
          "name": "stdout"
        }
      ]
    },
    {
      "cell_type": "code",
      "metadata": {
        "colab": {
          "base_uri": "https://localhost:8080/",
          "height": 380
        },
        "id": "v_PDhqH0wcK-",
        "outputId": "5ddbf4ac-a228-4282-93cc-14ec1eb3958d"
      },
      "source": [
        "#Plotting result\n",
        "\n",
        "plt.style.use(\"seaborn\")\n",
        "plt.xlabel(\"Learning rate\")\n",
        "plt.ylabel(\"Accuracy\")\n",
        "plt.title(\"MADAM\")\n",
        "plt.xticks([0,1,2,3,4], ['$10^0$','$10^{-1}$','$10^{-2}$','$10^{-3}$','$10^{-4}$']) \n",
        "\n",
        "temp = Acc_MADAM\n",
        "y = (np.max(temp,axis=1)/100).tolist()\n",
        "\n",
        "p = max(y)\n",
        "q = y.index(p)\n",
        "\n",
        "plt.scatter(q,p,marker='x',c='r',s=100,zorder=10,linewidth=3)\n",
        "\n",
        "\n",
        "x = np.arange(len(y))\n",
        "plt.plot(x,y)\n",
        "\n",
        "plt.savefig('./MADAM.png')\n",
        "plt.show()"
      ],
      "execution_count": 47,
      "outputs": [
        {
          "output_type": "display_data",
          "data": {
            "image/png": "[encoded data removed]",
            "text/plain": [
              "<Figure size 576x396 with 1 Axes>"
            ]
          },
          "metadata": {
            "tags": []
          }
        }
      ]
    },
    {
      "cell_type": "code",
      "metadata": {
        "id": "0tGoXwf-5pmE"
      },
      "source": [
        "#Plotting result\n",
        "\n",
        "plt.style.use(\"seaborn\")\n",
        "plt.xlabel(\"Learning rate\")\n",
        "plt.ylabel(\"Accuracy\")\n",
        "plt.title(\"MADAM\")\n",
        "plt.xticks([0,1,2,3,4], ['$10^0$','$10^{-1}$','$10^{-2}$','$10^{-3}$','$10^{-4}$']) \n",
        "\n",
        "temp = Acc_MADAM\n",
        "y = (np.max(temp,axis=1)/100).tolist()\n",
        "\n",
        "p = max(y)\n",
        "q = y.index(p)\n",
        "\n",
        "plt.scatter(q,p,marker='x',c='r',s=100,zorder=10,linewidth=3)\n",
        "\n",
        "\n",
        "x = np.arange(len(y))\n",
        "plt.plot(x,y)\n",
        "\n",
        "plt.savefig('./MADAM.png')\n",
        "plt.show()"
      ],
      "execution_count": null,
      "outputs": []
    },
    {
      "cell_type": "code",
      "metadata": {
        "colab": {
          "base_uri": "https://localhost:8080/"
        },
        "id": "pRQ0dOCu5xwl",
        "outputId": "9b2ffeac-db2c-47d0-dfdc-e96976006000"
      },
      "source": [
        "for i in loss_MADAM:\n",
        "  temp = np.array(i)\n",
        "  temp = temp.reshape(-1,1875,10)\n",
        "  print(temp.shape)\n",
        "  mn= np.mean(temp,axis=1)\n",
        "  print(mn)\n",
        "  print(mn.shape)"
      ],
      "execution_count": 66,
      "outputs": [
        {
          "output_type": "stream",
          "text": [
            "(1, 1875, 10)\n",
            "[[1.36548264 1.36485924 1.37432008 1.36445287 1.3640275  1.37268359\n",
            "  1.36321321 1.35631774 1.35868681 1.36637406]]\n",
            "(1, 10)\n"
          ],
          "name": "stdout"
        }
      ]
    },
    {
      "cell_type": "code",
      "metadata": {
        "id": "D1glUBY5wzWP"
      },
      "source": [
        ""
      ],
      "execution_count": null,
      "outputs": []
    },
    {
      "cell_type": "markdown",
      "metadata": {
        "id": "x4XgoK4C2gQy"
      },
      "source": [
        "## Combined Comparision"
      ]
    },
    {
      "cell_type": "code",
      "metadata": {
        "colab": {
          "base_uri": "https://localhost:8080/",
          "height": 380
        },
        "id": "MY3NYL3u2jzo",
        "outputId": "3e9b3f10-7933-42f5-be10-9ba9f9e19780"
      },
      "source": [
        "plt.style.use(\"seaborn\")\n",
        "plt.xlabel(\"Learning rate\")\n",
        "plt.ylabel(\"Accuracy\")\n",
        "plt.title(\"MADAM\")\n",
        "plt.xticks([0,1,2,3,4], ['$10^0$','$10^{-1}$','$10^{-2}$','$10^{-3}$','$10^{-4}$']) \n",
        "\n",
        "temp = Acc_MADAM\n",
        "y = (np.max(temp,axis=1)/100).tolist()\n",
        "p = max(y)\n",
        "q = y.index(p)\n",
        "plt.scatter(q,p,marker='x',c='r',s=100,zorder=10,linewidth=3)\n",
        "\n",
        "x = np.arange(len(y))\n",
        "plt.plot(x,y,label = \"MADAM\")\n",
        "\n",
        "temp = Acc_SGD\n",
        "y = (np.max(temp,axis=1)/100).tolist()\n",
        "p = max(y)\n",
        "q = y.index(p)\n",
        "plt.scatter(q,p,marker='x',c='r',s=100,zorder=10,linewidth=3)\n",
        "\n",
        "x = np.arange(len(y))\n",
        "plt.plot(x,y,label = \"SGD\")\n",
        "\n",
        "\n",
        "temp = Acc_Adam\n",
        "y = (np.max(temp,axis=1)/100).tolist()\n",
        "p = max(y)\n",
        "q = y.index(p)\n",
        "plt.scatter(q,p,marker='x',c='r',s=100,zorder=10,linewidth=3)\n",
        "\n",
        "x = np.arange(len(y))\n",
        "plt.plot(x,y,label = \"ADAM\")\n",
        "\n",
        "plt.legend()\n",
        "\n",
        "\n",
        "plt.savefig('./Comparision.png')\n",
        "plt.show()"
      ],
      "execution_count": 50,
      "outputs": [
        {
          "output_type": "display_data",
          "data": {
            "image/png": "[encoded data removed]",
            "text/plain": [
              "<Figure size 576x396 with 1 Axes>"
            ]
          },
          "metadata": {
            "tags": []
          }
        }
      ]
    },
    {
      "cell_type": "code",
      "metadata": {
        "id": "Jz30iBMn9wRm"
      },
      "source": [
        "np.save('FMNIST_Acc_MADAM.npy',Acc_MADAM)\n",
        "np.save('FMNIST_Acc_SGD.npy',Acc_SGD)\n",
        "np.save('FMNIST_Acc_ADAM.npy',Acc_Adam)"
      ],
      "execution_count": 5,
      "outputs": []
    },
    {
      "cell_type": "code",
      "metadata": {
        "id": "M2X9iTzYKL89"
      },
      "source": [
        ""
      ],
      "execution_count": null,
      "outputs": []
    }
  ]
}